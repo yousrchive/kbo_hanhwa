{
 "cells": [
  {
   "cell_type": "code",
   "execution_count": 2,
   "id": "baa87832",
   "metadata": {
    "scrolled": true
   },
   "outputs": [
    {
     "ename": "NoSuchDriverException",
     "evalue": "Message: Unable to obtain driver for chrome; For documentation on this error, please visit: https://www.selenium.dev/documentation/webdriver/troubleshooting/errors/driver_location\n",
     "output_type": "error",
     "traceback": [
      "\u001b[0;31m---------------------------------------------------------------------------\u001b[0m",
      "\u001b[0;31mValueError\u001b[0m                                Traceback (most recent call last)",
      "File \u001b[0;32m~/Desktop/baseball_project/.venv/lib/python3.12/site-packages/selenium/webdriver/common/driver_finder.py:64\u001b[0m, in \u001b[0;36mDriverFinder._binary_paths\u001b[0;34m(self)\u001b[0m\n\u001b[1;32m     63\u001b[0m \u001b[38;5;28;01mif\u001b[39;00m \u001b[38;5;129;01mnot\u001b[39;00m Path(path)\u001b[38;5;241m.\u001b[39mis_file():\n\u001b[0;32m---> 64\u001b[0m     \u001b[38;5;28;01mraise\u001b[39;00m \u001b[38;5;167;01mValueError\u001b[39;00m(\u001b[38;5;124mf\u001b[39m\u001b[38;5;124m\"\u001b[39m\u001b[38;5;124mThe path is not a valid file: \u001b[39m\u001b[38;5;132;01m{\u001b[39;00mpath\u001b[38;5;132;01m}\u001b[39;00m\u001b[38;5;124m\"\u001b[39m)\n\u001b[1;32m     65\u001b[0m \u001b[38;5;28mself\u001b[39m\u001b[38;5;241m.\u001b[39m_paths[\u001b[38;5;124m\"\u001b[39m\u001b[38;5;124mdriver_path\u001b[39m\u001b[38;5;124m\"\u001b[39m] \u001b[38;5;241m=\u001b[39m path\n",
      "\u001b[0;31mValueError\u001b[0m: The path is not a valid file: C:\\Users\\user\\chromedriver.exe",
      "\nThe above exception was the direct cause of the following exception:\n",
      "\u001b[0;31mNoSuchDriverException\u001b[0m                     Traceback (most recent call last)",
      "Cell \u001b[0;32mIn[2], line 18\u001b[0m\n\u001b[1;32m     15\u001b[0m url_base \u001b[38;5;241m=\u001b[39m \u001b[38;5;124m'\u001b[39m\u001b[38;5;124mhttps://www.koreabaseball.com/Record/Team/\u001b[39m\u001b[38;5;132;01m{category}\u001b[39;00m\u001b[38;5;124m'\u001b[39m\n\u001b[1;32m     16\u001b[0m category_list \u001b[38;5;241m=\u001b[39m [\u001b[38;5;124m'\u001b[39m\u001b[38;5;124mHitter/Basic1.aspx\u001b[39m\u001b[38;5;124m'\u001b[39m, \u001b[38;5;124m'\u001b[39m\u001b[38;5;124mPitcher/Basic1.aspx\u001b[39m\u001b[38;5;124m'\u001b[39m]\n\u001b[0;32m---> 18\u001b[0m driver \u001b[38;5;241m=\u001b[39m \u001b[43mwebdriver\u001b[49m\u001b[38;5;241;43m.\u001b[39;49m\u001b[43mChrome\u001b[49m\u001b[43m(\u001b[49m\u001b[43mservice\u001b[49m\u001b[43m \u001b[49m\u001b[38;5;241;43m=\u001b[39;49m\u001b[43m \u001b[49m\u001b[43ms\u001b[49m\u001b[43m)\u001b[49m\n",
      "File \u001b[0;32m~/Desktop/baseball_project/.venv/lib/python3.12/site-packages/selenium/webdriver/chrome/webdriver.py:45\u001b[0m, in \u001b[0;36mWebDriver.__init__\u001b[0;34m(self, options, service, keep_alive)\u001b[0m\n\u001b[1;32m     42\u001b[0m service \u001b[38;5;241m=\u001b[39m service \u001b[38;5;28;01mif\u001b[39;00m service \u001b[38;5;28;01melse\u001b[39;00m Service()\n\u001b[1;32m     43\u001b[0m options \u001b[38;5;241m=\u001b[39m options \u001b[38;5;28;01mif\u001b[39;00m options \u001b[38;5;28;01melse\u001b[39;00m Options()\n\u001b[0;32m---> 45\u001b[0m \u001b[38;5;28;43msuper\u001b[39;49m\u001b[43m(\u001b[49m\u001b[43m)\u001b[49m\u001b[38;5;241;43m.\u001b[39;49m\u001b[38;5;21;43m__init__\u001b[39;49m\u001b[43m(\u001b[49m\n\u001b[1;32m     46\u001b[0m \u001b[43m    \u001b[49m\u001b[43mbrowser_name\u001b[49m\u001b[38;5;241;43m=\u001b[39;49m\u001b[43mDesiredCapabilities\u001b[49m\u001b[38;5;241;43m.\u001b[39;49m\u001b[43mCHROME\u001b[49m\u001b[43m[\u001b[49m\u001b[38;5;124;43m\"\u001b[39;49m\u001b[38;5;124;43mbrowserName\u001b[39;49m\u001b[38;5;124;43m\"\u001b[39;49m\u001b[43m]\u001b[49m\u001b[43m,\u001b[49m\n\u001b[1;32m     47\u001b[0m \u001b[43m    \u001b[49m\u001b[43mvendor_prefix\u001b[49m\u001b[38;5;241;43m=\u001b[39;49m\u001b[38;5;124;43m\"\u001b[39;49m\u001b[38;5;124;43mgoog\u001b[39;49m\u001b[38;5;124;43m\"\u001b[39;49m\u001b[43m,\u001b[49m\n\u001b[1;32m     48\u001b[0m \u001b[43m    \u001b[49m\u001b[43moptions\u001b[49m\u001b[38;5;241;43m=\u001b[39;49m\u001b[43moptions\u001b[49m\u001b[43m,\u001b[49m\n\u001b[1;32m     49\u001b[0m \u001b[43m    \u001b[49m\u001b[43mservice\u001b[49m\u001b[38;5;241;43m=\u001b[39;49m\u001b[43mservice\u001b[49m\u001b[43m,\u001b[49m\n\u001b[1;32m     50\u001b[0m \u001b[43m    \u001b[49m\u001b[43mkeep_alive\u001b[49m\u001b[38;5;241;43m=\u001b[39;49m\u001b[43mkeep_alive\u001b[49m\u001b[43m,\u001b[49m\n\u001b[1;32m     51\u001b[0m \u001b[43m\u001b[49m\u001b[43m)\u001b[49m\n",
      "File \u001b[0;32m~/Desktop/baseball_project/.venv/lib/python3.12/site-packages/selenium/webdriver/chromium/webdriver.py:50\u001b[0m, in \u001b[0;36mChromiumDriver.__init__\u001b[0;34m(self, browser_name, vendor_prefix, options, service, keep_alive)\u001b[0m\n\u001b[1;32m     47\u001b[0m \u001b[38;5;28mself\u001b[39m\u001b[38;5;241m.\u001b[39mservice \u001b[38;5;241m=\u001b[39m service\n\u001b[1;32m     49\u001b[0m finder \u001b[38;5;241m=\u001b[39m DriverFinder(\u001b[38;5;28mself\u001b[39m\u001b[38;5;241m.\u001b[39mservice, options)\n\u001b[0;32m---> 50\u001b[0m \u001b[38;5;28;01mif\u001b[39;00m \u001b[43mfinder\u001b[49m\u001b[38;5;241;43m.\u001b[39;49m\u001b[43mget_browser_path\u001b[49m\u001b[43m(\u001b[49m\u001b[43m)\u001b[49m:\n\u001b[1;32m     51\u001b[0m     options\u001b[38;5;241m.\u001b[39mbinary_location \u001b[38;5;241m=\u001b[39m finder\u001b[38;5;241m.\u001b[39mget_browser_path()\n\u001b[1;32m     52\u001b[0m     options\u001b[38;5;241m.\u001b[39mbrowser_version \u001b[38;5;241m=\u001b[39m \u001b[38;5;28;01mNone\u001b[39;00m\n",
      "File \u001b[0;32m~/Desktop/baseball_project/.venv/lib/python3.12/site-packages/selenium/webdriver/common/driver_finder.py:47\u001b[0m, in \u001b[0;36mDriverFinder.get_browser_path\u001b[0;34m(self)\u001b[0m\n\u001b[1;32m     46\u001b[0m \u001b[38;5;28;01mdef\u001b[39;00m \u001b[38;5;21mget_browser_path\u001b[39m(\u001b[38;5;28mself\u001b[39m) \u001b[38;5;241m-\u001b[39m\u001b[38;5;241m>\u001b[39m \u001b[38;5;28mstr\u001b[39m:\n\u001b[0;32m---> 47\u001b[0m     \u001b[38;5;28;01mreturn\u001b[39;00m \u001b[38;5;28;43mself\u001b[39;49m\u001b[38;5;241;43m.\u001b[39;49m\u001b[43m_binary_paths\u001b[49m\u001b[43m(\u001b[49m\u001b[43m)\u001b[49m[\u001b[38;5;124m\"\u001b[39m\u001b[38;5;124mbrowser_path\u001b[39m\u001b[38;5;124m\"\u001b[39m]\n",
      "File \u001b[0;32m~/Desktop/baseball_project/.venv/lib/python3.12/site-packages/selenium/webdriver/common/driver_finder.py:78\u001b[0m, in \u001b[0;36mDriverFinder._binary_paths\u001b[0;34m(self)\u001b[0m\n\u001b[1;32m     76\u001b[0m \u001b[38;5;28;01mexcept\u001b[39;00m \u001b[38;5;167;01mException\u001b[39;00m \u001b[38;5;28;01mas\u001b[39;00m err:\n\u001b[1;32m     77\u001b[0m     msg \u001b[38;5;241m=\u001b[39m \u001b[38;5;124mf\u001b[39m\u001b[38;5;124m\"\u001b[39m\u001b[38;5;124mUnable to obtain driver for \u001b[39m\u001b[38;5;132;01m{\u001b[39;00mbrowser\u001b[38;5;132;01m}\u001b[39;00m\u001b[38;5;124m\"\u001b[39m\n\u001b[0;32m---> 78\u001b[0m     \u001b[38;5;28;01mraise\u001b[39;00m NoSuchDriverException(msg) \u001b[38;5;28;01mfrom\u001b[39;00m \u001b[38;5;21;01merr\u001b[39;00m\n\u001b[1;32m     79\u001b[0m \u001b[38;5;28;01mreturn\u001b[39;00m \u001b[38;5;28mself\u001b[39m\u001b[38;5;241m.\u001b[39m_paths\n",
      "\u001b[0;31mNoSuchDriverException\u001b[0m: Message: Unable to obtain driver for chrome; For documentation on this error, please visit: https://www.selenium.dev/documentation/webdriver/troubleshooting/errors/driver_location\n"
     ]
    }
   ],
   "source": [
    "from selenium import webdriver\n",
    "from selenium.webdriver.chrome.service import Service\n",
    "from selenium.webdriver.common.keys import Keys\n",
    "from selenium.webdriver.common.by import By\n",
    "from tqdm import tqdm\n",
    "import time\n",
    "import pandas as pd\n",
    "\n",
    "#크롬 웹드라이버 설치 필수\n",
    "#코랩으로는 다른 라이브러리로 해야하는 듯함. 지금 코드는 주피터용입니다.\n",
    "\n",
    "s = Service(r\"C:\\Users\\user\\chromedriver.exe\")\n",
    "\n",
    "# 타자 투수 데이터는 주소가 끝에만 바뀌므로 for문 활용\n",
    "url_base = 'https://www.koreabaseball.com/Record/Player/HitterBasic/Basic1.aspx/{category}'\n",
    "category_list = ['Hitter/Basic1.aspx', 'Pitcher/Basic1.aspx']\n",
    "\n",
    "driver = webdriver.Chrome(service = s)\n"
   ]
  },
  {
   "cell_type": "code",
   "execution_count": 95,
   "id": "a7126f0e",
   "metadata": {},
   "outputs": [],
   "source": [
    "hit_data = []\n"
   ]
  },
  {
   "cell_type": "code",
   "execution_count": 83,
   "id": "a62423eb",
   "metadata": {},
   "outputs": [],
   "source": [
    "is_pitcher = 0\n",
    "hit_data = []\n",
    "category_data_list_hit = []\n",
    "\n",
    "pitch_data_pitch = []\n",
    "category_data_list_pitch = []"
   ]
  },
  {
   "cell_type": "code",
   "execution_count": 84,
   "id": "3da72867",
   "metadata": {
    "scrolled": false
   },
   "outputs": [
    {
     "name": "stderr",
     "output_type": "stream",
     "text": [
      "100%|████████████████████████████████████████████████████████████████████████████████████| 3/3 [00:16<00:00,  5.56s/it]\n",
      "100%|████████████████████████████████████████████████████████████████████████████████████| 3/3 [00:16<00:00,  5.57s/it]\n"
     ]
    }
   ],
   "source": [
    "for category in category_list:\n",
    "    is_pitcher += 1\n",
    "    category_data_list = []\n",
    "    \n",
    "    url = url_base.format(category = category)\n",
    "    driver.get(url)\n",
    "    driver.maximize_window()\n",
    "    \n",
    "    # 연도나 이닝처럼 고르는 영역 어떻게 코드 짜여있는지 확인하고 맞는 요소로 대입하여함. 아래는 kbo기록실 타자 연도별 기준임!\n",
    "    year_list = [x.strip() for x in driver.find_element(By.CLASS_NAME,'select02').text.split('\\n') if len(x) >1]\n",
    "    \n",
    "    # 처음에서부터 3개년도.\n",
    "    for year in tqdm(year_list[:3]):\n",
    "        driver.find_element(By.CLASS_NAME,'select02').click()\n",
    "        xpath_formatxpath_format = '//option[@value=\"{year}\"]'\n",
    "        driver.find_element(By.XPATH, xpath_format.format(year = year)).click()\n",
    "    \n",
    "        time.sleep(0.1)\n",
    "        temp_list = [x.split(' ') for x in driver.find_element(By.TAG_NAME, 'table').text.split('\\n')]\n",
    "        temp_data = pd.DataFrame(columns = temp_list[0])\n",
    "    \n",
    "    # 하단 try-except문은 투수데이터 가져올때 이닝이 정수로 안떨어지고 분수로 있는 경우를 대비한것. 필요없다면 제외\n",
    "    # 필요없어도 temp_list안의 데이터는 옮겨줘야함.\n",
    "    \n",
    "        for i,temp in enumerate(temp_list[1:-1]):\n",
    "            try:\n",
    "                temp_data.loc[i] = temp\n",
    "                time.sleep(0.5)\n",
    "            except:\n",
    "                ip_index = temp_list[0].index('IP')\n",
    "                ip = temp[ip_index]\n",
    "                del temp[13]\n",
    "                temp[13] = ip+' '+temp[13]\n",
    "                \n",
    "                temp_data.loc[i] = temp\n",
    "                time.sleep(0.5)\n",
    "        temp_data['Year'] = year\n",
    "        category_data_list.append(temp_data)\n",
    "        time.sleep(0.1)\n",
    "        time.sleep(1)\n",
    "    \n",
    "    if is_pitcher == 1:\n",
    "        category_data_list_hit = pd.concat(category_data_list)\n",
    "    else:\n",
    "        category_data_list_pitch = pd.concat(category_data_list)\n",
    "\n"
   ]
  },
  {
   "cell_type": "code",
   "execution_count": 97,
   "id": "35fe6093",
   "metadata": {
    "scrolled": true
   },
   "outputs": [],
   "source": [
    "hit_data.append(category_data_list_hit)"
   ]
  },
  {
   "cell_type": "code",
   "execution_count": 107,
   "id": "69427e16",
   "metadata": {},
   "outputs": [
    {
     "data": {
      "text/plain": [
       "[  순위   팀명    AVG    G    PA    AB    R     H   2B  3B   HR    TB  RBI  SAC  \\\n",
       " 0  1   롯데  0.280  133  5308  4521  718  1265  247  24  121  1923  671   82   \n",
       " 1  2  KIA  0.278  133  5189  4542  683  1263  221  17  142  1944  637   51   \n",
       " 2  3   삼성  0.277  133  5280  4553  739  1262  244  21  162  2034  695   69   \n",
       " 3  4   두산  0.276  133  5303  4583  732  1266  221  26  130  1929  688   54   \n",
       " 4  5   LG  0.276  133  5319  4521  669  1247  219  24   85  1769  630  114   \n",
       " 5  6   한화  0.275  133  5259  4556  659  1255  211  15  148  1940  628   75   \n",
       " 6  7   현대  0.268  133  5225  4445  711  1192  166  20  169  1905  667   77   \n",
       " 7  8   SK  0.260  133  5077  4400  596  1143  215  11  113  1719  555  122   \n",
       " 0  1   삼성  0.284  133  5304  4648  777  1321  266  16  191  2192  731   55   \n",
       " 1  2   SK  0.270  133  5090  4475  618  1207  204  27  158  1939  587   96   \n",
       " 2  3  KIA  0.269  133  5200  4575  643  1230  220  14  120  1838  611   45   \n",
       " 3  4   LG  0.261  133  5121  4492  583  1173  212  22  100  1729  541   93   \n",
       " 4  5   현대  0.261  133  5140  4444  658  1160  191  25  173  1920  643   99   \n",
       " 5  6   두산  0.261  133  5083  4498  587  1173  174  21  130  1779  556   47   \n",
       " 6  7   한화  0.256  133  5062  4491  603  1148  206  10  170  1884  570   52   \n",
       " 7  8   롯데  0.245  133  4986  4512  463  1105  206  19   85  1604  443   49   \n",
       " 0  1   현대  0.286  133  5313  4483  723  1280  208  15  175  2043  673  139   \n",
       " 1  2   삼성  0.284  133  5241  4564  769  1295  236  14  213  2198  744   73   \n",
       " 2  3   두산  0.276  133  5165  4536  563  1251  205  21   90  1768  541   63   \n",
       " 3  4  KIA  0.272  133  5127  4448  657  1211  219  16  129  1849  626   94   \n",
       " 4  5   SK  0.272  133  5157  4445  644  1208  209  16  156  1917  612  127   \n",
       " 5  6   롯데  0.256  133  4987  4465  491  1143  232  18   73  1630  451   83   \n",
       " 6  7   한화  0.254  133  5198  4458  577  1131  218  20  121  1752  521  102   \n",
       " 7  8   LG  0.249  133  4964  4375  509  1088  188  29  106  1652  485   74   \n",
       " \n",
       "    SF  Year  \n",
       " 0  60  2001  \n",
       " 1  43  2001  \n",
       " 2  42  2001  \n",
       " 3  46  2001  \n",
       " 4  41  2001  \n",
       " 5  34  2001  \n",
       " 6  29  2001  \n",
       " 7  26  2001  \n",
       " 0  34  2002  \n",
       " 1  34  2002  \n",
       " 2  35  2002  \n",
       " 3  37  2002  \n",
       " 4  34  2002  \n",
       " 5  46  2002  \n",
       " 6  22  2002  \n",
       " 7  22  2002  \n",
       " 0  38  2003  \n",
       " 1  38  2003  \n",
       " 2  52  2003  \n",
       " 3  37  2003  \n",
       " 4  32  2003  \n",
       " 5  28  2003  \n",
       " 6  21  2003  \n",
       " 7  40  2003  ]"
      ]
     },
     "execution_count": 107,
     "metadata": {},
     "output_type": "execute_result"
    }
   ],
   "source": [
    "hit_data"
   ]
  },
  {
   "cell_type": "code",
   "execution_count": null,
   "id": "6962d821",
   "metadata": {},
   "outputs": [],
   "source": []
  }
 ],
 "metadata": {
  "kernelspec": {
   "display_name": "Python 3",
   "language": "python",
   "name": "python3"
  },
  "language_info": {
   "codemirror_mode": {
    "name": "ipython",
    "version": 3
   },
   "file_extension": ".py",
   "mimetype": "text/x-python",
   "name": "python",
   "nbconvert_exporter": "python",
   "pygments_lexer": "ipython3",
   "version": "3.12.3"
  }
 },
 "nbformat": 4,
 "nbformat_minor": 5
}
